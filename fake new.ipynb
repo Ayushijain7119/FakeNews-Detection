{
 "cells": [
  {
   "cell_type": "code",
   "execution_count": null,
   "id": "1b54516a",
   "metadata": {},
   "outputs": [],
   "source": []
  },
  {
   "cell_type": "code",
   "execution_count": null,
   "id": "3b4cfe2f",
   "metadata": {},
   "outputs": [],
   "source": [
    "import pandas as pd\n",
    "import numpy as np\n",
    "from sklearn import linear_model\n",
    "import matplotlib.pyplot as plt\n",
    "import seaborn as sns\n",
    "%matplotlib inline"
   ]
  },
  {
   "cell_type": "code",
   "execution_count": null,
   "id": "48f2de25",
   "metadata": {},
   "outputs": [],
   "source": [
    "new=pd.read_csv(r\"C:\\Users\\User\\Documents\\Fake.csv\")\n",
    "new.head()"
   ]
  },
  {
   "cell_type": "code",
   "execution_count": null,
   "id": "95585b78",
   "metadata": {},
   "outputs": [],
   "source": [
    "from sklearn.preprocessing import LabelEncoder\n",
    "le=LabelEncoder()"
   ]
  },
  {
   "cell_type": "code",
   "execution_count": null,
   "id": "c1575404",
   "metadata": {},
   "outputs": [],
   "source": [
    "new[\"titlele\"]=le.fit_transform(new.title)\n",
    "new[\"textle\"]=le.fit_transform(new.text)\n",
    "new[\"subjectle\"]=le.fit_transform(new.subject)\n",
    "new[\"datele\"]=le.fit_transform(new.date)\n",
    "new.head()"
   ]
  },
  {
   "cell_type": "code",
   "execution_count": null,
   "id": "59e207ba",
   "metadata": {},
   "outputs": [],
   "source": [
    "new1=new.drop([\"title\",\"text\",\"subject\",\"date\"],axis=\"columns\")\n",
    "new1"
   ]
  },
  {
   "cell_type": "code",
   "execution_count": null,
   "id": "031d722a",
   "metadata": {},
   "outputs": [],
   "source": [
    "sns.pairplot(new1)"
   ]
  },
  {
   "cell_type": "code",
   "execution_count": null,
   "id": "e7950578",
   "metadata": {},
   "outputs": [],
   "source": [
    "plt.boxplot(new1)\n",
    "plt.show()"
   ]
  },
  {
   "cell_type": "code",
   "execution_count": null,
   "id": "94f814ab",
   "metadata": {},
   "outputs": [],
   "source": [
    "Q1=new1.titlele.quantile(0.25)\n",
    "Q3=new1.titlele.quantile(0.75)\n",
    "IQR=Q3-Q1\n",
    "print(IQR)\n",
    "new2=new1[~((new1.titlele<(Q1-1.5*IQR))|(new1.titlele>(Q1+1.5*IQR)))]"
   ]
  },
  {
   "cell_type": "code",
   "execution_count": null,
   "id": "1417afe5",
   "metadata": {},
   "outputs": [],
   "source": [
    "Q1=new1.textle.quantile(0.25)\n",
    "Q3=new1.textle.quantile(0.75)\n",
    "IQR=Q3-Q1\n",
    "print(IQR)\n",
    "new2=new1[~((new1.textle<(Q1-1.5*IQR))|(new1.textle>(Q1+1.5*IQR)))]"
   ]
  },
  {
   "cell_type": "code",
   "execution_count": null,
   "id": "8c49f93b",
   "metadata": {},
   "outputs": [],
   "source": [
    "Q1=new1.subjectle.quantile(0.25)\n",
    "Q3=new1.subjectle.quantile(0.75)\n",
    "IQR=Q3-Q1\n",
    "print(IQR)\n",
    "new2=new1[~((new1.subjectle<(Q1-1.5*IQR))|(new1.subjectle>(Q1+1.5*IQR)))]"
   ]
  },
  {
   "cell_type": "code",
   "execution_count": null,
   "id": "20b79faf",
   "metadata": {},
   "outputs": [],
   "source": [
    "Q1=new1.datele.quantile(0.25)\n",
    "Q3=new1.datele.quantile(0.75)\n",
    "IQR=Q3-Q1\n",
    "print(IQR)\n",
    "new2=new1[~((new1.datele<(Q1-1.5*IQR))|(new1.datele>(Q1+1.5*IQR)))]"
   ]
  },
  {
   "cell_type": "code",
   "execution_count": null,
   "id": "9d4486b7",
   "metadata": {},
   "outputs": [],
   "source": [
    "X=new2[[\"textle\",\"subjectle\",\"datele\"]]\n",
    "y=new2[\"titlele\"]\n",
    "from sklearn.model_selection import train_test_split\n",
    "X_train,X_test,y_train,t=train_test_split(X,y,test_size=0.1)"
   ]
  },
  {
   "cell_type": "code",
   "execution_count": null,
   "id": "bc2683e3",
   "metadata": {},
   "outputs": [],
   "source": [
    "from sklearn.ensemble import RandomForestRegressor"
   ]
  },
  {
   "cell_type": "code",
   "execution_count": null,
   "id": "71c94360",
   "metadata": {},
   "outputs": [],
   "source": [
    "reg1=RandomForestRegressor(n_estimators=20, random_state=0)\n",
    "reg1.fit(X,y)\n",
    "y_pred=reg1.predict(X)"
   ]
  },
  {
   "cell_type": "code",
   "execution_count": null,
   "id": "cc24459c",
   "metadata": {},
   "outputs": [],
   "source": [
    "reg1.score(X,y)"
   ]
  },
  {
   "cell_type": "code",
   "execution_count": null,
   "id": "e43fab58",
   "metadata": {},
   "outputs": [],
   "source": [
    "reg1.predict(X)"
   ]
  }
 ],
 "metadata": {
  "kernelspec": {
   "display_name": "Python 3",
   "language": "python",
   "name": "python3"
  },
  "language_info": {
   "codemirror_mode": {
    "name": "ipython",
    "version": 3
   },
   "file_extension": ".py",
   "mimetype": "text/x-python",
   "name": "python",
   "nbconvert_exporter": "python",
   "pygments_lexer": "ipython3",
   "version": "3.8.8"
  }
 },
 "nbformat": 4,
 "nbformat_minor": 5
}
